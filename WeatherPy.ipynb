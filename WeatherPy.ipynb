{
 "cells": [
  {
   "cell_type": "code",
   "execution_count": 1,
   "metadata": {},
   "outputs": [],
   "source": [
    "#!pip install citipy"
   ]
  },
  {
   "cell_type": "code",
   "execution_count": 2,
   "metadata": {
    "scrolled": true
   },
   "outputs": [],
   "source": [
    "# Dependencies and Setup\n",
    "import matplotlib.pyplot as plt\n",
    "import pandas as pd\n",
    "import numpy as np\n",
    "import requests\n",
    "import time\n",
    "from scipy.stats import linregress\n",
    "\n",
    "# Impor the OpenWeatherMap API key\n",
    "from api_keys import weather_api_key\n",
    "\n",
    "# Import citipy to determine the cities based on latitude and longitude\n",
    "from citipy import citipy"
   ]
  },
  {
   "cell_type": "markdown",
   "metadata": {},
   "source": [
    "### Generate the Cities List by Using the `citipy` Library"
   ]
  },
  {
   "cell_type": "code",
   "execution_count": 3,
   "metadata": {},
   "outputs": [
    {
     "name": "stdout",
     "output_type": "stream",
     "text": [
      "Number of cities in the list: 576\n"
     ]
    }
   ],
   "source": [
    "# Empty list for holding the latitude and longitude combinations\n",
    "lat_lngs = []\n",
    "\n",
    "# Empty list for holding the cities names\n",
    "cities = []\n",
    "\n",
    "# Range of latitudes and longitudes\n",
    "lat_range = (-90, 90)\n",
    "lng_range = (-180, 180)\n",
    "\n",
    "# Create a set of random lat and lng combinations\n",
    "lats = np.random.uniform(lat_range[0], lat_range[1], size=1500)\n",
    "lngs = np.random.uniform(lng_range[0], lng_range[1], size=1500)\n",
    "lat_lngs = zip(lats, lngs)\n",
    "\n",
    "# Identify nearest city for each lat, lng combination\n",
    "for lat_lng in lat_lngs:\n",
    "    city = citipy.nearest_city(lat_lng[0], lat_lng[1]).city_name\n",
    "\n",
    "    # If the city is unique, then add it to a our cities list\n",
    "    if city not in cities:\n",
    "        cities.append(city)\n",
    "\n",
    "# Print the city count to confirm sufficient count\n",
    "print(f\"Number of cities in the list: {len(cities)}\")"
   ]
  },
  {
   "cell_type": "markdown",
   "metadata": {},
   "source": [
    "---"
   ]
  },
  {
   "cell_type": "markdown",
   "metadata": {},
   "source": [
    "## Requirement 1: Create Plots to Showcase the Relationship Between Weather Variables and Latitude\n",
    "\n",
    "### Use the OpenWeatherMap API to retrieve weather data from the cities list generated in the started code"
   ]
  },
  {
   "cell_type": "code",
   "execution_count": 4,
   "metadata": {
    "scrolled": true
   },
   "outputs": [
    {
     "name": "stdout",
     "output_type": "stream",
     "text": [
      "Beginning Data Retrieval     \n",
      "-----------------------------\n"
     ]
    },
    {
     "ename": "NameError",
     "evalue": "name 'api_keys' is not defined",
     "output_type": "error",
     "traceback": [
      "\u001b[0;31m---------------------------------------------------------------------------\u001b[0m",
      "\u001b[0;31mNameError\u001b[0m                                 Traceback (most recent call last)",
      "Cell \u001b[0;32mIn[4], line 19\u001b[0m\n\u001b[1;32m     17\u001b[0m \u001b[38;5;66;03m# Add this code before your main loop to test a single city\u001b[39;00m\n\u001b[1;32m     18\u001b[0m test_city \u001b[38;5;241m=\u001b[39m \u001b[38;5;124m\"\u001b[39m\u001b[38;5;124mLondon\u001b[39m\u001b[38;5;124m\"\u001b[39m\n\u001b[0;32m---> 19\u001b[0m test_url \u001b[38;5;241m=\u001b[39m \u001b[38;5;124mf\u001b[39m\u001b[38;5;124m\"\u001b[39m\u001b[38;5;132;01m{\u001b[39;00murl\u001b[38;5;132;01m}\u001b[39;00m\u001b[38;5;124mq=\u001b[39m\u001b[38;5;132;01m{\u001b[39;00mtest_city\u001b[38;5;132;01m}\u001b[39;00m\u001b[38;5;124m&appid=\u001b[39m\u001b[38;5;132;01m{\u001b[39;00mapi_keys\u001b[38;5;132;01m}\u001b[39;00m\u001b[38;5;124m&units=metric\u001b[39m\u001b[38;5;124m\"\u001b[39m\n\u001b[1;32m     20\u001b[0m test_response \u001b[38;5;241m=\u001b[39m requests\u001b[38;5;241m.\u001b[39mget(test_url)\u001b[38;5;241m.\u001b[39mjson()\n\u001b[1;32m     21\u001b[0m \u001b[38;5;28mprint\u001b[39m(\u001b[38;5;124m\"\u001b[39m\u001b[38;5;124mTest API Response:\u001b[39m\u001b[38;5;124m\"\u001b[39m)\n",
      "\u001b[0;31mNameError\u001b[0m: name 'api_keys' is not defined"
     ]
    }
   ],
   "source": [
    "# Set the API base URL\n",
    "url = \"http://api.openweathermap.org/data/2.5/weather\"\n",
    "\n",
    "# Define an empty list to fetch the weather data for each city\n",
    "city_data = []\n",
    "successful_requests = 0  # Add this line to initialize the counter\n",
    "\n",
    "\n",
    "# Print to logger\n",
    "print(\"Beginning Data Retrieval     \")\n",
    "print(\"-----------------------------\")\n",
    "\n",
    "# Create counters\n",
    "record_count = 1\n",
    "set_count = 1\n",
    "\n",
    "# Add this code before your main loop to test a single city\n",
    "test_city = \"London\"\n",
    "test_url = f\"{url}q={test_city}&appid={api_keys}&units=metric\"\n",
    "test_response = requests.get(test_url).json()\n",
    "print(\"Test API Response:\")\n",
    "print(test_response)\n",
    "\n",
    "# Loop through all the cities in our list to fetch weather data\n",
    "for i, city in enumerate(cities):\n",
    "\n",
    "    # Group cities in sets of 50 for logging purposes\n",
    "    if (i % 50 == 0 and i >= 50):\n",
    "        set_count += 1\n",
    "        record_count = 0\n",
    "\n",
    "    # Create endpoint URL with each city\n",
    "    city_url = f\"{url}&q={city}\"\n",
    "\n",
    "    # Log the url, record, and set numbers\n",
    "    print(\"Processing Record %s of Set %s | %s\" % (record_count, set_count, city))\n",
    "\n",
    "    # Add 1 to the record count\n",
    "    record_count += 1\n",
    "\n",
    "# After your loop, print details about the successful city\n",
    "if successful_requests > 0:\n",
    "    print(\"\\nDetails of the successful city:\")\n",
    "    print(city_data[0])\n",
    "\n",
    "  # Run an API request for each of the cities\n",
    "try:\n",
    "    # Parse the JSON and retrieve data\n",
    "    city_weather = requests.get(city_url).json()\n",
    "\n",
    "# Check if the API returned an error\n",
    "    if city_weather.get(\"cod\") != 200:\n",
    "        print(f\"Error with city {city}: {city_weather.get('message', 'Unknown error')}\")\n",
    "        continu\n",
    "    \n",
    "    # Parse out latitude, longitude, max temp, humidity, cloudiness, wind speed, country, and date\n",
    "    city_lat = city_weather[\"coord\"][\"lat\"]  # Changed from response to city_weather\n",
    "    city_lng = city_weather[\"coord\"][\"lon\"]\n",
    "    city_max_temp = city_weather[\"main\"][\"temp_max\"]\n",
    "    city_humidity = city_weather[\"main\"][\"humidity\"]\n",
    "    city_clouds = city_weather[\"clouds\"][\"all\"]\n",
    "    city_wind = city_weather[\"wind\"][\"speed\"]\n",
    "    city_country = city_weather[\"sys\"][\"country\"]\n",
    "    city_date = city_weather[\"dt\"]\n",
    "\n",
    "    # Append the City information into city_data list\n",
    "    city_data.append({\"City\": city,\n",
    "                      \"Lat\": city_lat,\n",
    "                      \"Lng\": city_lng,\n",
    "                      \"Max Temp\": city_max_temp,\n",
    "                      \"Humidity\": city_humidity,\n",
    "                      \"Cloudiness\": city_clouds,\n",
    "                      \"Wind Speed\": city_wind,\n",
    "                      \"Country\": city_country,\n",
    "                      \"Date\": city_date})\n",
    "\n",
    "    successful_requests += 1  # Add this line to increment the counter\n",
    "\n",
    "except Exception as e:\n",
    "    print(f\"Exception for city {city}: {str(e)}\")\n",
    "    pass\n",
    "\n",
    "# If an error is experienced, skip the city\n",
    "except:\n",
    "    print(\"City not found. Skipping...\")\n",
    "    pass\n",
    "\n",
    "# pause to avoid rate limiting\n",
    "    time.sleep(1)\n",
    "\n",
    "# Indicate that Data Loading is complete\n",
    "print(\"-----------------------------\")\n",
    "print(\"Data Retrieval Complete      \")\n",
    "print(\"-----------------------------\")\n",
    "print(f\"Successfully retrieved data for {successful_requests} cities out of {len(cities)} total cities.\")"
   ]
  },
  {
   "cell_type": "code",
   "execution_count": null,
   "metadata": {},
   "outputs": [],
   "source": [
    "# Convert the cities weather data into a Pandas DataFrame\n",
    "city_data_df = pd.DataFrame(city_data)\n",
    "\n",
    "# Show Record Count\n",
    "city_data_df.count()"
   ]
  },
  {
   "cell_type": "code",
   "execution_count": null,
   "metadata": {},
   "outputs": [],
   "source": [
    "# Display sample data\n",
    "city_data_df.head()"
   ]
  },
  {
   "cell_type": "code",
   "execution_count": null,
   "metadata": {},
   "outputs": [],
   "source": [
    "# Export the City_Data into a csv\n",
    "city_data_df.to_csv(\"output_data/cities.csv\", index_label=\"City_ID\")"
   ]
  },
  {
   "cell_type": "code",
   "execution_count": null,
   "metadata": {},
   "outputs": [],
   "source": [
    "# Read saved data\n",
    "city_data_df = pd.read_csv(\"output_data/cities.csv\", index_col=\"City_ID\")\n",
    "\n",
    "# Display sample data\n",
    "city_data_df.head()"
   ]
  },
  {
   "cell_type": "markdown",
   "metadata": {},
   "source": [
    "### Create the Scatter Plots Requested\n",
    "\n",
    "#### Latitude Vs. Temperature"
   ]
  },
  {
   "cell_type": "code",
   "execution_count": null,
   "metadata": {
    "tags": []
   },
   "outputs": [],
   "source": [
    "# Build scatter plot for latitude vs. temperature\n",
    "plt.figure(figsize=(10, 6))\n",
    "plt.scatter(city_data_df['Lat'], city_data_df['Max Temp'], marker='o', color='blue', edgecolors='black', alpha=0.7)\n",
    "\n",
    "# Incorporate the other graph properties\n",
    "plt.title('City Latitude vs. Max Temperature', fontsize=14)  # Title of the plot\n",
    "plt.xlabel('Latitude', fontsize=12)  # Label for the x-axis\n",
    "plt.ylabel('Max Temperature (°C)', fontsize=12)  # Label for the y-axis\n",
    "plt.grid(True)  # Enable grid for better readability\n",
    "\n",
    "# Save the figure\n",
    "plt.savefig(\"output_data/Fig1.png\")\n",
    "\n",
    "# Show plot\n",
    "plt.show()"
   ]
  },
  {
   "cell_type": "markdown",
   "metadata": {},
   "source": [
    "#### Latitude Vs. Humidity"
   ]
  },
  {
   "cell_type": "code",
   "execution_count": null,
   "metadata": {},
   "outputs": [],
   "source": [
    "# Build the scatter plots for latitude vs. humidity\n",
    "plt.figure(figsize=(10, 6))\n",
    "plt.scatter(city_data_df['Lat'], city_data_df['Humidity'], marker='o', color='green', edgecolors='black', alpha=0.7)\n",
    "\n",
    "# Incorporate the other graph properties\n",
    "plt.title('City Latitude vs. Humidity', fontsize=14)  # Title of the plot\n",
    "plt.xlabel('Latitude', fontsize=12)  # Label for the x-axis\n",
    "plt.ylabel('Humidity (%)', fontsize=12)  # Label for the y-axis\n",
    "plt.grid(True)  # Enable grid for better readability\n",
    "\n",
    "# Save the figure\n",
    "plt.savefig(\"output_data/Fig2.png\")\n",
    "\n",
    "# Show plot\n",
    "plt.show()"
   ]
  },
  {
   "cell_type": "markdown",
   "metadata": {},
   "source": [
    "#### Latitude Vs. Cloudiness"
   ]
  },
  {
   "cell_type": "code",
   "execution_count": null,
   "metadata": {},
   "outputs": [],
   "source": [
    "# Build the scatter plots for latitude vs. cloudiness\n",
    "plt.figure(figsize=(10, 6))\n",
    "plt.scatter(city_data_df['Lat'], city_data_df['Cloudiness'], marker='o', color='green', edgecolors='black', alpha=0.7)\n",
    "\n",
    "# Incorporate the other graph properties\n",
    "plt.title('City Latitude vs. Cloudiness', fontsize=14)  # Title of the plot\n",
    "plt.xlabel('Latitude', fontsize=12)  # Label for the x-axis\n",
    "plt.ylabel('Cloudiness (%)', fontsize=12)  # Label for the y-axis\n",
    "plt.grid(True)  # Enable grid for better readability\n",
    "\n",
    "# Save the figure\n",
    "plt.savefig(\"output_data/Fig3.png\")\n",
    "\n",
    "# Show plot\n",
    "plt.show()"
   ]
  },
  {
   "cell_type": "markdown",
   "metadata": {},
   "source": [
    "#### Latitude vs. Wind Speed Plot"
   ]
  },
  {
   "cell_type": "code",
   "execution_count": null,
   "metadata": {},
   "outputs": [],
   "source": [
    "# Build the scatter plots for latitude vs. wind speed\n",
    "plt.figure(figsize=(10, 6))\n",
    "plt.scatter(city_data_df['Lat'], city_data_df['Wind Speed'], marker='o', color='green', edgecolors='black', alpha=0.7)\n",
    "\n",
    "# Incorporate the other graph properties\n",
    "plt.title('City Latitude vs. Wind Speed', fontsize=14)  # Title of the plot\n",
    "plt.xlabel('Latitude', fontsize=12)  # Label for the x-axis\n",
    "plt.ylabel('Wind Speed (m/s)', fontsize=12)  # Label for the y-axis\n",
    "plt.grid(True)  # Enable grid for better readability\n",
    "\n",
    "# Save the figure\n",
    "plt.savefig(\"output_data/Fig4.png\")\n",
    "\n",
    "# Show plot\n",
    "plt.show()"
   ]
  },
  {
   "cell_type": "markdown",
   "metadata": {},
   "source": [
    "---\n",
    "\n",
    "## Requirement 2: Compute Linear Regression for Each Relationship\n"
   ]
  },
  {
   "cell_type": "code",
   "execution_count": null,
   "metadata": {},
   "outputs": [],
   "source": [
    "# Define a function to create Linear Regression plots\n",
    "def plot_linear_regression(x, y, x_label, y_label, title, filename):\n",
    "    slope, intercept, r_value, p_value, std_err = stats.linregress(x, y)\n",
    "    \n",
    "    # Create the regression line\n",
    "    regression_line = slope * np.array(x) + intercept\n",
    "\n",
    "    # Create the plot\n",
    "    plt.figure(figsize=(10, 6))\n",
    "    plt.scatter(x, y, marker='o', color='blue', edgecolors='black', alpha=0.7, label='Data Points')  # Scatter plot\n",
    "    plt.plot(x, regression_line, color='red', label=f'Linear Regression Line: y = {slope:.2f}x + {intercept:.2f}')  # Regression line\n",
    "\n",
    "    # Add titles and labels\n",
    "    plt.title(title, fontsize=14)\n",
    "    plt.xlabel(x_label, fontsize=12)\n",
    "    plt.ylabel(y_label, fontsize=12)\n",
    "    plt.grid(True)\n",
    "    plt.legend()\n",
    "\n",
    "    # Save the figure\n",
    "    plt.savefig(filename)\n",
    "\n",
    "    # Show the plot\n",
    "    plt.show()\n",
    "\n",
    "    # Return the linear regression details (slope, intercept, R-squared, p-value)\n",
    "    return slope, intercept, r_value**2, p_value, std_err"
   ]
  },
  {
   "cell_type": "code",
   "execution_count": null,
   "metadata": {},
   "outputs": [],
   "source": [
    "# Create a DataFrame with the Northern Hemisphere data (Latitude >= 0)\n",
    "northern_hemi_df = city_data_df[city_data_df['Lat'] >= 0]\n",
    "\n",
    "# Display sample data\n",
    "northern_hemi_df.head()"
   ]
  },
  {
   "cell_type": "code",
   "execution_count": null,
   "metadata": {},
   "outputs": [],
   "source": [
    "# Create a DataFrame with the Southern Hemisphere data (Latitude < 0)\n",
    "southern_hemi_df = city_data_df[city_data_df['Lat'] < 0]\n",
    "\n",
    "# Display sample data\n",
    "southern_hemi_df.head()"
   ]
  },
  {
   "cell_type": "markdown",
   "metadata": {},
   "source": [
    "###  Temperature vs. Latitude Linear Regression Plot"
   ]
  },
  {
   "cell_type": "code",
   "execution_count": null,
   "metadata": {},
   "outputs": [],
   "source": [
    "# Linear regression on Northern Hemisphere\n",
    "slope_north, intercept_north, r_value_north, p_value_north, std_err_north = plot_linear_regression(\n",
    "    northern_hemi_df['Lat'], \n",
    "    northern_hemi_df['Max Temp'], \n",
    "    'Latitude', \n",
    "    'Max Temperature (°C)', \n",
    "    'Northern Hemisphere: Temperature vs. Latitude', \n",
    "    'output_data/North_Temperature_vs_Latitude.png'\n",
    ")"
   ]
  },
  {
   "cell_type": "code",
   "execution_count": null,
   "metadata": {},
   "outputs": [],
   "source": [
    "# Linear regression on Southern Hemisphere\n",
    "slope_south, intercept_south, r_value_south, p_value_south, std_err_south = plot_linear_regression(\n",
    "    southern_hemi_df['Lat'], \n",
    "    southern_hemi_df['Max Temp'], \n",
    "    'Latitude', \n",
    "    'Max Temperature (°C)', \n",
    "    'Southern Hemisphere: Temperature vs. Latitude', \n",
    "    'output_data/South_Temperature_vs_Latitude.png'\n",
    ")"
   ]
  },
  {
   "cell_type": "markdown",
   "metadata": {},
   "source": [
    "**Discussion about the linear relationship:** YOUR RESPONSE HERE"
   ]
  },
  {
   "cell_type": "markdown",
   "metadata": {},
   "source": [
    "### Humidity vs. Latitude Linear Regression Plot"
   ]
  },
  {
   "cell_type": "code",
   "execution_count": null,
   "metadata": {},
   "outputs": [],
   "source": [
    "# Northern Hemisphere\n",
    "# Perform linear regression: latitude vs. humidity\n",
    "slope, intercept, r_value, p_value, std_err = stats.linregress(northern_hemi_df['Lat'], northern_hemi_df['Humidity'])\n",
    "\n",
    "# Create the regression line based on the linear regression output\n",
    "regression_line = slope * np.array(northern_hemi_df['Lat']) + intercept\n",
    "\n",
    "# Create the scatter plot with the regression line\n",
    "plt.figure(figsize=(10, 6))\n",
    "plt.scatter(northern_hemi_df['Lat'], northern_hemi_df['Humidity'], color='blue', edgecolors='black', alpha=0.7, label='Data Points')\n",
    "\n",
    "# Plot the regression line\n",
    "plt.plot(northern_hemi_df['Lat'], regression_line, color='red', label=f'Linear Regression Line: y = {slope:.2f}x + {intercept:.2f}')\n",
    "\n",
    "# Add titles and labels\n",
    "plt.title('Northern Hemisphere: Latitude vs. Humidity', fontsize=14)\n",
    "plt.xlabel('Latitude', fontsize=12)\n",
    "plt.ylabel('Humidity (%)', fontsize=12)\n",
    "plt.grid(True)\n",
    "plt.legend()\n",
    "\n",
    "# Save the plot\n",
    "plt.savefig(\"output_data/Northern_Hemisphere_Latitude_vs_Humidity.png\")\n",
    "\n",
    "# Show the plot\n",
    "plt.show()\n",
    "\n",
    "# Print the linear regression statistics\n",
    "print(f\"Linear Regression (Northern Hemisphere):\")\n",
    "print(f\"Slope: {slope:.2f}\")\n",
    "print(f\"Intercept: {intercept:.2f}\")\n",
    "print(f\"R-squared: {r_value**2:.2f}\")\n",
    "print(f\"P-value: {p_value:.4f}\")\n",
    "print(f\"Standard Error: {std_err:.4f}\")"
   ]
  },
  {
   "cell_type": "code",
   "execution_count": null,
   "metadata": {},
   "outputs": [],
   "source": [
    "# Southern Hemisphere\n",
    "\n",
    "# Perform linear regression: latitude vs. humidity\n",
    "slope, intercept, r_value, p_value, std_err = stats.linregress(southern_hemi_df['Lat'], southern_hemi_df['Humidity'])\n",
    "\n",
    "# Create the regression line based on the linear regression output\n",
    "regression_line = slope * np.array(southern_hemi_df['Lat']) + intercept\n",
    "\n",
    "# Create the scatter plot with the regression line\n",
    "plt.figure(figsize=(10, 6))\n",
    "plt.scatter(southern_hemi_df['Lat'], southern_hemi_df['Humidity'], color='green', edgecolors='black', alpha=0.7, label='Data Points')\n",
    "\n",
    "# Plot the regression line\n",
    "plt.plot(southern_hemi_df['Lat'], regression_line, color='red', label=f'Linear Regression Line: y = {slope:.2f}x + {intercept:.2f}')\n",
    "\n",
    "# Add titles and labels\n",
    "plt.title('Southern Hemisphere: Latitude vs. Humidity', fontsize=14)\n",
    "plt.xlabel('Latitude', fontsize=12)\n",
    "plt.ylabel('Humidity (%)', fontsize=12)\n",
    "plt.grid(True)\n",
    "plt.legend()\n",
    "\n",
    "# Save the plot\n",
    "plt.savefig(\"output_data/Southern_Hemisphere_Latitude_vs_Humidity.png\")\n",
    "\n",
    "# Show the plot\n",
    "plt.show()\n",
    "\n",
    "# Print the linear regression statistics\n",
    "print(f\"Linear Regression (Southern Hemisphere):\")\n",
    "print(f\"Slope: {slope:.2f}\")\n",
    "print(f\"Intercept: {intercept:.2f}\")\n",
    "print(f\"R-squared: {r_value**2:.2f}\")\n",
    "print(f\"P-value: {p_value:.4f}\")\n",
    "print(f\"Standard Error: {std_err:.4f}\")"
   ]
  },
  {
   "cell_type": "markdown",
   "metadata": {},
   "source": [
    "**Discussion about the linear relationship:** YOUR RESPONSE HERE"
   ]
  },
  {
   "cell_type": "markdown",
   "metadata": {},
   "source": [
    "### Cloudiness vs. Latitude Linear Regression Plot"
   ]
  },
  {
   "cell_type": "code",
   "execution_count": null,
   "metadata": {},
   "outputs": [],
   "source": [
    "# Northern Hemisphere\n",
    "# Filter data for Northern Hemisphere (latitude >= 0)\n",
    "northern_hemi_df = city_data_df[city_data_df['Lat'] >= 0]\n",
    "\n",
    "# Perform linear regression: latitude vs. cloudiness\n",
    "slope, intercept, r_value, p_value, std_err = stats.linregress(northern_hemi_df['Lat'], northern_hemi_df['Cloudiness'])\n",
    "\n",
    "# Create the regression line based on the linear regression output\n",
    "regression_line = slope * np.array(northern_hemi_df['Lat']) + intercept\n",
    "\n",
    "# Create the scatter plot with the regression line\n",
    "plt.figure(figsize=(10, 6))\n",
    "plt.scatter(northern_hemi_df['Lat'], northern_hemi_df['Cloudiness'], color='purple', edgecolors='black', alpha=0.7, label='Data Points')\n",
    "\n",
    "# Plot the regression line\n",
    "plt.plot(northern_hemi_df['Lat'], regression_line, color='red', label=f'Linear Regression Line: y = {slope:.2f}x + {intercept:.2f}')\n",
    "\n",
    "# Add titles and labels\n",
    "plt.title('Northern Hemisphere: Latitude vs. Cloudiness', fontsize=14)\n",
    "plt.xlabel('Latitude', fontsize=12)\n",
    "plt.ylabel('Cloudiness (%)', fontsize=12)\n",
    "plt.grid(True)\n",
    "plt.legend()\n",
    "\n",
    "# Save the plot\n",
    "plt.savefig(\"output_data/Northern_Hemisphere_Latitude_vs_Cloudiness.png\")\n",
    "\n",
    "# Show the plot\n",
    "plt.show()\n",
    "\n",
    "# Print the linear regression statistics\n",
    "print(f\"Linear Regression (Northern Hemisphere) for Cloudiness:\")\n",
    "print(f\"Slope: {slope:.2f}\")\n",
    "print(f\"Intercept: {intercept:.2f}\")\n",
    "print(f\"R-squared: {r_value**2:.2f}\")\n",
    "print(f\"P-value: {p_value:.4f}\")\n",
    "print(f\"Standard Error: {std_err:.4f}\")"
   ]
  },
  {
   "cell_type": "code",
   "execution_count": null,
   "metadata": {},
   "outputs": [],
   "source": [
    "# Southern Hemisphere\n",
    "# Filter data for Southern Hemisphere (latitude < 0)\n",
    "southern_hemi_df = city_data_df[city_data_df['Lat'] < 0]\n",
    "\n",
    "# Perform linear regression: latitude vs. cloudiness\n",
    "slope, intercept, r_value, p_value, std_err = stats.linregress(southern_hemi_df['Lat'], southern_hemi_df['Cloudiness'])\n",
    "\n",
    "# Create the regression line based on the linear regression output\n",
    "regression_line = slope * np.array(southern_hemi_df['Lat']) + intercept\n",
    "\n",
    "# Create the scatter plot with the regression line\n",
    "plt.figure(figsize=(10, 6))\n",
    "plt.scatter(southern_hemi_df['Lat'], southern_hemi_df['Cloudiness'], color='orange', edgecolors='black', alpha=0.7, label='Data Points')\n",
    "\n",
    "# Plot the regression line\n",
    "plt.plot(southern_hemi_df['Lat'], regression_line, color='red', label=f'Linear Regression Line: y = {slope:.2f}x + {intercept:.2f}')\n",
    "\n",
    "# Add titles and labels\n",
    "plt.title('Southern Hemisphere: Latitude vs. Cloudiness', fontsize=14)\n",
    "plt.xlabel('Latitude', fontsize=12)\n",
    "plt.ylabel('Cloudiness (%)', fontsize=12)\n",
    "plt.grid(True)\n",
    "plt.legend()\n",
    "\n",
    "# Save the plot\n",
    "plt.savefig(\"output_data/Southern_Hemisphere_Latitude_vs_Cloudiness.png\")\n",
    "\n",
    "# Show the plot\n",
    "plt.show()\n",
    "\n",
    "# Print the linear regression statistics\n",
    "print(f\"Linear Regression (Southern Hemisphere) for Cloudiness:\")\n",
    "print(f\"Slope: {slope:.2f}\")\n",
    "print(f\"Intercept: {intercept:.2f}\")\n",
    "print(f\"R-squared: {r_value**2:.2f}\")\n",
    "print(f\"P-value: {p_value:.4f}\")\n",
    "print(f\"Standard Error: {std_err:.4f}\")"
   ]
  },
  {
   "cell_type": "markdown",
   "metadata": {},
   "source": [
    "**Discussion about the linear relationship:** YOUR RESPONSE HERE"
   ]
  },
  {
   "cell_type": "markdown",
   "metadata": {},
   "source": [
    "### Wind Speed vs. Latitude Linear Regression Plot"
   ]
  },
  {
   "cell_type": "code",
   "execution_count": null,
   "metadata": {},
   "outputs": [],
   "source": [
    "# Northern Hemisphere\n",
    "# Filter data for Northern Hemisphere (latitude >= 0)\n",
    "northern_hemi_df = city_data_df[city_data_df['Lat'] >= 0]\n",
    "\n",
    "# Perform linear regression: latitude vs. wind speed\n",
    "slope, intercept, r_value, p_value, std_err = stats.linregress(northern_hemi_df['Lat'], northern_hemi_df['Wind Speed'])\n",
    "\n",
    "# Create the regression line based on the linear regression output\n",
    "regression_line = slope * np.array(northern_hemi_df['Lat']) + intercept\n",
    "\n",
    "# Create the scatter plot with the regression line\n",
    "plt.figure(figsize=(10, 6))\n",
    "plt.scatter(northern_hemi_df['Lat'], northern_hemi_df['Wind Speed'], color='blue', edgecolors='black', alpha=0.7, label='Data Points')\n",
    "\n",
    "# Plot the regression line\n",
    "plt.plot(northern_hemi_df['Lat'], regression_line, color='red', label=f'Linear Regression Line: y = {slope:.2f}x + {intercept:.2f}')\n",
    "\n",
    "# Add titles and labels\n",
    "plt.title('Northern Hemisphere: Latitude vs. Wind Speed', fontsize=14)\n",
    "plt.xlabel('Latitude', fontsize=12)\n",
    "plt.ylabel('Wind Speed (m/s)', fontsize=12)\n",
    "plt.grid(True)\n",
    "plt.legend()\n",
    "\n",
    "# Save the plot\n",
    "plt.savefig(\"output_data/Northern_Hemisphere_Latitude_vs_Wind_Speed.png\")\n",
    "\n",
    "# Show the plot\n",
    "plt.show()\n",
    "\n",
    "# Print the linear regression statistics\n",
    "print(f\"Linear Regression (Northern Hemisphere) for Wind Speed:\")\n",
    "print(f\"Slope: {slope:.2f}\")\n",
    "print(f\"Intercept: {intercept:.2f}\")\n",
    "print(f\"R-squared: {r_value**2:.2f}\")\n",
    "print(f\"P-value: {p_value:.4f}\")\n",
    "print(f\"Standard Error: {std_err:.4f}\")"
   ]
  },
  {
   "cell_type": "code",
   "execution_count": null,
   "metadata": {},
   "outputs": [],
   "source": [
    "# Southern Hemisphere\n",
    "# Filter data for Southern Hemisphere (latitude < 0)\n",
    "southern_hemi_df = city_data_df[city_data_df['Lat'] < 0]\n",
    "\n",
    "# Perform linear regression: latitude vs. wind speed\n",
    "slope, intercept, r_value, p_value, std_err = stats.linregress(southern_hemi_df['Lat'], southern_hemi_df['Wind Speed'])\n",
    "\n",
    "# Create the regression line based on the linear regression output\n",
    "regression_line = slope * np.array(southern_hemi_df['Lat']) + intercept\n",
    "\n",
    "# Create the scatter plot with the regression line\n",
    "plt.figure(figsize=(10, 6))\n",
    "plt.scatter(southern_hemi_df['Lat'], southern_hemi_df['Wind Speed'], color='green', edgecolors='black', alpha=0.7, label='Data Points')\n",
    "\n",
    "# Plot the regression line\n",
    "plt.plot(southern_hemi_df['Lat'], regression_line, color='red', label=f'Linear Regression Line: y = {slope:.2f}x + {intercept:.2f}')\n",
    "\n",
    "# Add titles and labels\n",
    "plt.title('Southern Hemisphere: Latitude vs. Wind Speed', fontsize=14)\n",
    "plt.xlabel('Latitude', fontsize=12)\n",
    "plt.ylabel('Wind Speed (m/s)', fontsize=12)\n",
    "plt.grid(True)\n",
    "plt.legend()\n",
    "\n",
    "# Save the plot\n",
    "plt.savefig(\"output_data/Southern_Hemisphere_Latitude_vs_Wind_Speed.png\")\n",
    "\n",
    "# Show the plot\n",
    "plt.show()\n",
    "\n",
    "# Print the linear regression statistics\n",
    "print(f\"Linear Regression (Southern Hemisphere) for Wind Speed:\")\n",
    "print(f\"Slope: {slope:.2f}\")\n",
    "print(f\"Intercept: {intercept:.2f}\")\n",
    "print(f\"R-squared: {r_value**2:.2f}\")\n",
    "print(f\"P-value: {p_value:.4f}\")\n",
    "print(f\"Standard Error: {std_err:.4f}\")"
   ]
  },
  {
   "cell_type": "markdown",
   "metadata": {},
   "source": [
    "**Discussion about the linear relationship:** YOUR RESPONSE HERE"
   ]
  },
  {
   "cell_type": "code",
   "execution_count": null,
   "metadata": {},
   "outputs": [],
   "source": []
  }
 ],
 "metadata": {
  "anaconda-cloud": {},
  "kernel_info": {
   "name": "python3"
  },
  "kernelspec": {
   "display_name": "dev",
   "language": "python",
   "name": "python3"
  },
  "language_info": {
   "codemirror_mode": {
    "name": "ipython",
    "version": 3
   },
   "file_extension": ".py",
   "mimetype": "text/x-python",
   "name": "python",
   "nbconvert_exporter": "python",
   "pygments_lexer": "ipython3",
   "version": "3.10.13"
  },
  "latex_envs": {
   "LaTeX_envs_menu_present": true,
   "autoclose": false,
   "autocomplete": true,
   "bibliofile": "biblio.bib",
   "cite_by": "apalike",
   "current_citInitial": 1,
   "eqLabelWithNumbers": true,
   "eqNumInitial": 1,
   "hotkeys": {
    "equation": "Ctrl-E",
    "itemize": "Ctrl-I"
   },
   "labels_anchors": false,
   "latex_user_defs": false,
   "report_style_numbering": false,
   "user_envs_cfg": false
  },
  "nteract": {
   "version": "0.12.3"
  }
 },
 "nbformat": 4,
 "nbformat_minor": 4
}
